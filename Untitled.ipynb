{
 "cells": [
  {
   "cell_type": "code",
   "execution_count": 1,
   "metadata": {},
   "outputs": [],
   "source": [
    "from record import Symmetric_Space"
   ]
  },
  {
   "cell_type": "code",
   "execution_count": 2,
   "metadata": {},
   "outputs": [
    {
     "name": "stdout",
     "output_type": "stream",
     "text": [
      "space: $\\mathbf{R}^{2}$\n",
      "operator: \n",
      "symmetry: \n",
      "isotropy: \n",
      "invariant measure: \n",
      "discrete subgroup: \n",
      "eigenfunctions: \n",
      "eigenvalues: \n",
      "fourier transform: \n",
      "spectrum decomposition: \n",
      "convolution: \n",
      "differentiation: \n",
      "fundamental solution to heat equation: \n",
      "eigenfunctions on quotient: \n",
      "eigenvalues on quotient: \n",
      "fourier transform on quotient: \n",
      "spectrum decomposition on quotient: \n",
      "poisson summation: \n",
      "partition function: \n",
      "circle problem: \n",
      "fundamental domain: \n",
      "test function: \n",
      "average: \n"
     ]
    }
   ],
   "source": [
    "plane = Symmetric_Space.from_input()"
   ]
  },
  {
   "cell_type": "code",
   "execution_count": 3,
   "metadata": {},
   "outputs": [
    {
     "name": "stdout",
     "output_type": "stream",
     "text": [
      "space: $\\mathbf{R}^{2}$\n",
      "\n",
      "\n",
      "operator: \n",
      "\n",
      "\n",
      "symmetry: \n",
      "\n",
      "\n",
      "isotropy: \n",
      "\n",
      "\n",
      "invariant measure: \n",
      "\n",
      "\n",
      "discrete subgroup: \n",
      "\n",
      "\n",
      "eigenfunctions: \n",
      "\n",
      "\n",
      "eigenvalues: \n",
      "\n",
      "\n",
      "fourier transform: \n",
      "\n",
      "\n",
      "spectrum decomposition: \n",
      "\n",
      "\n",
      "convolution: \n",
      "\n",
      "\n",
      "differentiation: \n",
      "\n",
      "\n",
      "fundamental solution to heat equation: \n",
      "\n",
      "\n",
      "eigenfunctions on quotient: \n",
      "\n",
      "\n",
      "eigenvalues on quotient: \n",
      "\n",
      "\n",
      "fourier transform on quotient: \n",
      "\n",
      "\n",
      "spectrum decomposition on quotient: \n",
      "\n",
      "\n",
      "poisson summation: \n",
      "\n",
      "\n",
      "partition function: \n",
      "\n",
      "\n",
      "circle problem: \n",
      "\n",
      "\n",
      "fundamental domain: \n",
      "\n",
      "\n",
      "test function: \n",
      "\n",
      "\n",
      "average: \n",
      "\n",
      "\n"
     ]
    }
   ],
   "source": [
    "for key in plane._record:\n",
    "    print(key + \": \"+plane._record[key])\n",
    "    print(\"\\n\")"
   ]
  },
  {
   "cell_type": "markdown",
   "metadata": {},
   "source": [
    "space: $\\mathbf{R}^{2}$\n"
   ]
  },
  {
   "cell_type": "code",
   "execution_count": null,
   "metadata": {},
   "outputs": [],
   "source": []
  }
 ],
 "metadata": {
  "kernelspec": {
   "display_name": "Python 3",
   "language": "python",
   "name": "python3"
  },
  "language_info": {
   "codemirror_mode": {
    "name": "ipython",
    "version": 3
   },
   "file_extension": ".py",
   "mimetype": "text/x-python",
   "name": "python",
   "nbconvert_exporter": "python",
   "pygments_lexer": "ipython3",
   "version": "3.7.4"
  }
 },
 "nbformat": 4,
 "nbformat_minor": 2
}
