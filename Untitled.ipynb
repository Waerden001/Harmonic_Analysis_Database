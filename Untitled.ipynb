{
 "cells": [
  {
   "cell_type": "code",
   "execution_count": 1,
   "metadata": {},
   "outputs": [],
   "source": [
    "from record import Symmetric_Space"
   ]
  },
  {
   "cell_type": "code",
   "execution_count": 2,
   "metadata": {},
   "outputs": [
    {
     "name": "stdout",
     "output_type": "stream",
     "text": [
      "space: $\\mathbf{R}^{2}$\n",
      "operator: \n",
      "symmetry: \n",
      "isotropy: \n",
      "invariant measure: \n",
      "discrete subgroup: \n",
      "eigenfunctions: \n",
      "eigenvalues: \n",
      "fourier transform: \n",
      "spectrum decomposition: \n",
      "convolution: \n",
      "differentiation: \n",
      "fundamental solution to heat equation: \n",
      "eigenfunctions on quotient: \n",
      "eigenvalues on quotient: \n",
      "fourier transform on quotient: \n",
      "spectrum decomposition on quotient: \n",
      "poisson summation: \n",
      "partition function: \n",
      "circle problem: \n",
      "fundamental domain: \n",
      "test function: \n",
      "average: \n"
     ]
    }
   ],
   "source": [
    "plane = Symmetric_Space.from_input()"
   ]
  },
  {
   "cell_type": "code",
   "execution_count": 3,
   "metadata": {},
   "outputs": [
    {
     "name": "stdout",
     "output_type": "stream",
     "text": [
      "space: $\\mathbf{R}^{2}$\n",
      "\n",
      "\n",
      "operator: \n",
      "\n",
      "\n",
      "symmetry: \n",
      "\n",
      "\n",
      "isotropy: \n",
      "\n",
      "\n",
      "invariant measure: \n",
      "\n",
      "\n",
      "discrete subgroup: \n",
      "\n",
      "\n",
      "eigenfunctions: \n",
      "\n",
      "\n",
      "eigenvalues: \n",
      "\n",
      "\n",
      "fourier transform: \n",
      "\n",
      "\n",
      "spectrum decomposition: \n",
      "\n",
      "\n",
      "convolution: \n",
      "\n",
      "\n",
      "differentiation: \n",
      "\n",
      "\n",
      "fundamental solution to heat equation: \n",
      "\n",
      "\n",
      "eigenfunctions on quotient: \n",
      "\n",
      "\n",
      "eigenvalues on quotient: \n",
      "\n",
      "\n",
      "fourier transform on quotient: \n",
      "\n",
      "\n",
      "spectrum decomposition on quotient: \n",
      "\n",
      "\n",
      "poisson summation: \n",
      "\n",
      "\n",
      "partition function: \n",
      "\n",
      "\n",
      "circle problem: \n",
      "\n",
      "\n",
      "fundamental domain: \n",
      "\n",
      "\n",
      "test function: \n",
      "\n",
      "\n",
      "average: \n",
      "\n",
      "\n"
     ]
    }
   ],
   "source": [
    "for key in plane._record:\n",
    "    print(key + \": \"+plane._record[key])\n",
    "    print(\"\\n\")"
   ]
  },
  {
   "cell_type": "markdown",
   "metadata": {},
   "source": [
    "space: $\\mathbf{R}^{2}$\n"
   ]
  },
  {
   "cell_type": "code",
   "execution_count": 89,
   "metadata": {},
   "outputs": [],
   "source": [
    "from scipy.special import gamma, factorial, binom as gamma, factorial, binom\n",
    "\n",
    "def spherical_dim(degree, dimension):\n",
    "    return binom(degree+dimension-1, dimension -1)-binom(degree+dimension-3, dimension -1)\n",
    "\n",
    "def unit_ball_volume(dimension):\n",
    "    \"\"\"Vol(D^n, R)= \\pi^{n/2}/\\Gamma(n/2+1)R^{n}\n",
    "    \n",
    "    \"\"\"\n",
    "    if dimension % 2 == 0:\n",
    "        return 1/factorial(dimension/2)\n",
    "    if dimension % 2 == 1:\n",
    "        count = dimension/2\n",
    "        val = 1\n",
    "        while count >0:\n",
    "            val *= count\n",
    "            count -= 1\n",
    "        return 1/val\n",
    "    \n",
    "\n",
    "def unit_sphere_area(dimension):\n",
    "    return unit_ball_volume(dimension+1)*(dimension+1)\n",
    "\n",
    "def weyl_law(bound, dim):\n",
    "    \"\"\"Note that the dim parameter of the spherical_dim function is the dimension of the ambient space \n",
    "       while the dim parameter of weyl_law is the dimension of our sphere\n",
    "    \"\"\"\n",
    "    assert dim >= 2, \"Only works for S^2 or higher dimensions, do it yourself for S^1!\"\n",
    "    degree = 0\n",
    "    count = 0\n",
    "    while(degree*(degree+dim+1-2)<bound):\n",
    "        count += spherical_dim(degree, dim + 1)/bound**(dim/2)\n",
    "        degree += 1\n",
    "    return count*(2**dim)/(unit_ball_volume(dim)*unit_sphere_area(dim))\n",
    "\n",
    "        "
   ]
  },
  {
   "cell_type": "code",
   "execution_count": 88,
   "metadata": {},
   "outputs": [
    {
     "name": "stdout",
     "output_type": "stream",
     "text": [
      "nan\n"
     ]
    }
   ],
   "source": [
    "print(weyl_law(1000000000000,1))\n"
   ]
  },
  {
   "cell_type": "code",
   "execution_count": 90,
   "metadata": {},
   "outputs": [
    {
     "ename": "AssertionError",
     "evalue": "Only works for S^2 or higher dimensions, do it yourself for S^1!",
     "output_type": "error",
     "traceback": [
      "\u001b[1;31m---------------------------------------------------------------------------\u001b[0m",
      "\u001b[1;31mAssertionError\u001b[0m                            Traceback (most recent call last)",
      "\u001b[1;32m<ipython-input-90-c87a03bfd253>\u001b[0m in \u001b[0;36m<module>\u001b[1;34m\u001b[0m\n\u001b[0;32m      1\u001b[0m \u001b[1;32mfor\u001b[0m \u001b[0mdim\u001b[0m \u001b[1;32min\u001b[0m \u001b[0mrange\u001b[0m\u001b[1;33m(\u001b[0m\u001b[1;36m10\u001b[0m\u001b[1;33m)\u001b[0m\u001b[1;33m:\u001b[0m\u001b[1;33m\u001b[0m\u001b[1;33m\u001b[0m\u001b[0m\n\u001b[1;32m----> 2\u001b[1;33m     \u001b[0mprint\u001b[0m\u001b[1;33m(\u001b[0m\u001b[0mweyl_law\u001b[0m\u001b[1;33m(\u001b[0m\u001b[1;36m100000000\u001b[0m\u001b[1;33m,\u001b[0m \u001b[0mdim\u001b[0m\u001b[1;33m)\u001b[0m\u001b[1;33m)\u001b[0m\u001b[1;33m\u001b[0m\u001b[1;33m\u001b[0m\u001b[0m\n\u001b[0m",
      "\u001b[1;32m<ipython-input-89-ee2a77e88630>\u001b[0m in \u001b[0;36mweyl_law\u001b[1;34m(bound, dim)\u001b[0m\n\u001b[0;32m     26\u001b[0m        \u001b[1;32mwhile\u001b[0m \u001b[0mthe\u001b[0m \u001b[0mdim\u001b[0m \u001b[0mparameter\u001b[0m \u001b[0mof\u001b[0m \u001b[0mweyl_law\u001b[0m \u001b[1;32mis\u001b[0m \u001b[0mthe\u001b[0m \u001b[0mdimension\u001b[0m \u001b[0mof\u001b[0m \u001b[0mour\u001b[0m \u001b[0msphere\u001b[0m\u001b[1;33m\u001b[0m\u001b[1;33m\u001b[0m\u001b[0m\n\u001b[0;32m     27\u001b[0m     \"\"\"\n\u001b[1;32m---> 28\u001b[1;33m     \u001b[1;32massert\u001b[0m \u001b[0mdim\u001b[0m \u001b[1;33m>=\u001b[0m \u001b[1;36m2\u001b[0m\u001b[1;33m,\u001b[0m \u001b[1;34m\"Only works for S^2 or higher dimensions, do it yourself for S^1!\"\u001b[0m\u001b[1;33m\u001b[0m\u001b[1;33m\u001b[0m\u001b[0m\n\u001b[0m\u001b[0;32m     29\u001b[0m     \u001b[0mdegree\u001b[0m \u001b[1;33m=\u001b[0m \u001b[1;36m0\u001b[0m\u001b[1;33m\u001b[0m\u001b[1;33m\u001b[0m\u001b[0m\n\u001b[0;32m     30\u001b[0m     \u001b[0mcount\u001b[0m \u001b[1;33m=\u001b[0m \u001b[1;36m0\u001b[0m\u001b[1;33m\u001b[0m\u001b[1;33m\u001b[0m\u001b[0m\n",
      "\u001b[1;31mAssertionError\u001b[0m: Only works for S^2 or higher dimensions, do it yourself for S^1!"
     ]
    }
   ],
   "source": [
    "for dim in range(10):\n",
    "    print(weyl_law(100000000, dim))"
   ]
  },
  {
   "cell_type": "code",
   "execution_count": 79,
   "metadata": {},
   "outputs": [
    {
     "data": {
      "text/plain": [
       "2.0"
      ]
     },
     "execution_count": 79,
     "metadata": {},
     "output_type": "execute_result"
    }
   ],
   "source": [
    "unit_sphere_area(3)\n"
   ]
  },
  {
   "cell_type": "code",
   "execution_count": null,
   "metadata": {},
   "outputs": [],
   "source": []
  }
 ],
 "metadata": {
  "kernelspec": {
   "display_name": "Python 3",
   "language": "python",
   "name": "python3"
  },
  "language_info": {
   "codemirror_mode": {
    "name": "ipython",
    "version": 3
   },
   "file_extension": ".py",
   "mimetype": "text/x-python",
   "name": "python",
   "nbconvert_exporter": "python",
   "pygments_lexer": "ipython3",
   "version": "3.7.4"
  }
 },
 "nbformat": 4,
 "nbformat_minor": 2
}
