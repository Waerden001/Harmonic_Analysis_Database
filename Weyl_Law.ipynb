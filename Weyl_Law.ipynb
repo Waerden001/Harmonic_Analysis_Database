{
 "cells": [
  {
   "cell_type": "code",
   "execution_count": 50,
   "metadata": {},
   "outputs": [],
   "source": [
    "from scipy.special import gamma, factorial, binom as gamma, factorial, binom\n",
    "\n",
    "def spherical_dim(degree, dimension):\n",
    "    return binom(degree+dimension-1, dimension -1)-binom(degree+dimension-3, dimension -1)\n",
    "\n",
    "def unit_ball_volume(dimension):\n",
    "    \"\"\"Vol(D^n, R)= \\pi^{n/2}/\\Gamma(n/2+1)R^{n}\n",
    "    \n",
    "    \"\"\"\n",
    "    if dimension % 2 == 0:\n",
    "        return 1/factorial(dimension/2)\n",
    "    if dimension % 2 == 1:\n",
    "        count = dimension/2\n",
    "        val = 1\n",
    "        while count >0:\n",
    "            val *= count\n",
    "            count -= 1\n",
    "        return 1/val\n",
    "    \n",
    "\n",
    "def unit_sphere_area(dimension):\n",
    "    return unit_ball_volume(dimension+1)*(dimension+1)\n",
    "\n",
    "def weyl_law(bound, dim):\n",
    "    \"\"\"Note that the dim parameter of the spherical_dim function is the dimension of the ambient space \n",
    "       while the dim parameter of weyl_law is the dimension of our sphere\n",
    "    \"\"\"\n",
    "    assert dim >= 2, \"Only works for S^2 or higher dimensions, do it yourself for S^1!\"\n",
    "    degree = 0\n",
    "    count = 0\n",
    "    while(degree*(degree+dim+1-2)<bound):\n",
    "        count += spherical_dim(degree, dim + 1)/bound**(dim/2)\n",
    "        degree += 1\n",
    "    return count*(2**dim)/(unit_ball_volume(dim)*unit_sphere_area(dim))\n",
    "\n",
    "def harmonic_dim(n, m):\n",
    "    return (binom(m+n, n))**2-(binom(m+n-2, n))**2\n",
    "\n",
    "def weyl_law_projective_space(bound, dim):\n",
    "    \"\"\"\n",
    "    dim: dimension of the complex projective space as a complex manifold, thus the real dimension is 2n\n",
    "         the pre-quotient sphere has dimension 2n+1, the ambient linear space has dimension 2n+2\n",
    "    \"\"\"\n",
    "    assert dim >= 2, \"DIY\"\n",
    "    degree = 0\n",
    "    count = 0\n",
    "    while(2*degree*(2*degree+2*dim+2-2)<bound):\n",
    "        count += harmonic_dim(dim, degree)/bound**dim\n",
    "        degree += 1\n",
    "    return count*(2**(2*dim))/(unit_ball_volume(2*dim)*unit_sphere_area(2*dim+1))"
   ]
  },
  {
   "cell_type": "markdown",
   "metadata": {},
   "source": [
    "We have the spectral decompostion of $L^{2}(S^{n})= \\bigoplus_{k=0}^{\\infty}H_{k}(n+1)$. We view $\\mathbf{C}\\mathbf{P}^{n}$ as the $U_{1}$-invariant of $L^{2}(S^{2n+1})$. Namely, \n",
    "$$L^{2}(\\mathbf{C}\\mathbf{P}^{n})=\\bigoplus_{m=0}^{\\infty}H_{m,m}(n+1).$$\n",
    "We view $\\mathbf{R}^{2n+2}$ as $\\mathbf{C}^{n+1}$, $H_{m,m}$ is the space of bidegree-$(m,m)$ homegeneous polynomials in $n+1$ complex variables. The laplacian preserves this Hodge decompostion. By the fact that $\\Delta$ is a surjection. We get \n",
    "$$\\mathrm{dim} H_{m, m}(n+1)=(\\binom{m+n}{n})^{2}-(\\binom{m+n-2}{n})^{2}$$\n",
    "Eigenvalues are just given by the $L^{2}(S^{2n+1})$ situation \n",
    "$$2m(2m+2n+2-2).$$\n",
    "We have a hand-written draft of the deduction of the Fubini-Study metric, the upshot is just that at the end of the day \n",
    "$$\\mathrm{Vol}(\\mathbf{C}\\mathbf{P}^{n})=\\frac{\\mathrm{Vol}(S^{2n+1})}{\\mathrm{Vol}(S^{2})}.$$\n",
    "\n",
    "Note that, to check the Weyl law, we actually need $(\\text{bound}/2)^{\\mathrm{dim}}$. The explanation for this is that the Laplace-Beltrami operator is two times the Laplacian induced from the one on $S^{2n+1}$, which is induced from $\\mathbf{C}^{n+1}\\cong \\mathbf{R}^{2n+2}$. For $\\mathbf{C}\\mathbf{P}^{1}\\cong S^{2}$, we already know the induced metric is the same as a sphere with radius $\\frac{1}{2}$.\n",
    "\n"
   ]
  },
  {
   "cell_type": "code",
   "execution_count": 56,
   "metadata": {},
   "outputs": [
    {
     "data": {
      "text/plain": [
       "8936213.0"
      ]
     },
     "execution_count": 56,
     "metadata": {},
     "output_type": "execute_result"
    }
   ],
   "source": [
    "harmonic_dim(10, 5)\n"
   ]
  },
  {
   "cell_type": "code",
   "execution_count": 55,
   "metadata": {},
   "outputs": [
    {
     "name": "stdout",
     "output_type": "stream",
     "text": [
      "0.9999017744121806\n",
      "0.9996629678706425\n",
      "0.9998035584726326\n",
      "0.9994383362290181\n",
      "0.999705336184334\n",
      "0.9992137310799519\n",
      "0.9996070915565443\n",
      "0.9989891364426525\n",
      "0.9995088086048207\n",
      "0.9987645363506881\n",
      "0.9994104713510125\n",
      "0.9985399148520038\n",
      "0.9993120638232604\n",
      "0.9983152560089122\n",
      "0.9992135700560221\n",
      "0.9980905438981056\n",
      "0.9991149740900733\n",
      "0.9978657626106533\n",
      "0.9990162600015119\n",
      "0.9976408962513078\n",
      "0.9989174117569193\n",
      "0.9974159289130974\n",
      "0.9988184135019609\n",
      "0.9971908448420892\n",
      "0.9987192493156392\n",
      "0.9969656280438307\n",
      "0.9986199031401793\n",
      "0.9967402627197163\n"
     ]
    }
   ],
   "source": [
    "for dim in range(2,30):\n",
    "    print(weyl_law_projective_space(1000000000, dim))"
   ]
  },
  {
   "cell_type": "markdown",
   "metadata": {},
   "source": [
    "The explanation for this is that the Laplace-Beltrami operator is two times the Laplacian induced from the one on $S^{2n+1}$, which is induced from $\\mathbf{C}^{n+1}\\cong \\mathbf{R}^{2n+2}$. For $\\mathbf{C}\\mathbf{P}^{1}\\cong S^{2}$, we already know the induced metric is the same as a sphere with radius $\\frac{1}{2}$.\n"
   ]
  },
  {
   "cell_type": "code",
   "execution_count": null,
   "metadata": {},
   "outputs": [],
   "source": []
  }
 ],
 "metadata": {
  "kernelspec": {
   "display_name": "Python 3",
   "language": "python",
   "name": "python3"
  },
  "language_info": {
   "codemirror_mode": {
    "name": "ipython",
    "version": 3
   },
   "file_extension": ".py",
   "mimetype": "text/x-python",
   "name": "python",
   "nbconvert_exporter": "python",
   "pygments_lexer": "ipython3",
   "version": "3.7.4"
  }
 },
 "nbformat": 4,
 "nbformat_minor": 2
}
